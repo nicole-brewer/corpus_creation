{
 "cells": [
  {
   "cell_type": "markdown",
   "id": "d7efefa8-8e45-4805-9b8b-68f7d2597fdc",
   "metadata": {},
   "source": [
    "# Designing Search Queries\n",
    "\n",
    "This module is an adaption of https://dev.elsevier.com/sc_search_tips.html"
   ]
  },
  {
   "cell_type": "markdown",
   "id": "a83fc2ab-dff2-45b0-a0f7-4788299ee00e",
   "metadata": {},
   "source": [
    "## Initialize a Client"
   ]
  },
  {
   "cell_type": "code",
   "execution_count": 1,
   "id": "2a239e60-ed71-42f5-9cd4-6e9105a7c482",
   "metadata": {},
   "outputs": [],
   "source": [
    "from elsapy.elsclient import ElsClient\n",
    "\n",
    "with open(\"SCORPUS_API_KEY\", \"r+\") as file:\n",
    "    api_key = file.readline()\n",
    "\n",
    "myCl = ElsClient(api_key)"
   ]
  },
  {
   "cell_type": "markdown",
   "id": "10e509f1-649e-429d-95de-3b324b555519",
   "metadata": {},
   "source": [
    "**`OR`** finds documents that contain any of the terms."
   ]
  },
  {
   "cell_type": "code",
   "execution_count": 21,
   "id": "f2c2d93e-6b4f-49e4-8894-99b0787ac066",
   "metadata": {},
   "outputs": [
    {
     "data": {
      "text/plain": [
       "3705467"
      ]
     },
     "execution_count": 21,
     "metadata": {},
     "output_type": "execute_result"
    }
   ],
   "source": [
    "from elsapy.elssearch import ElsSearch\n",
    "\n",
    "docSrch = ElsSearch('lesion OR pancreatic', 'scopus')\n",
    "docSrch.execute(myCl)\n",
    "docSrch.tot_num_res"
   ]
  },
  {
   "cell_type": "markdown",
   "id": "75403d00-09c0-424a-877f-8c17b960515e",
   "metadata": {},
   "source": [
    "**`AND`** finds only those documents that contain all of the terms. If you are searching for a phrase which contains the word \"and\", omit the word \"and\" from your search. For example `profit loss` finds the phrase \"profit and loss\"."
   ]
  },
  {
   "cell_type": "code",
   "execution_count": 22,
   "id": "a96db06e-d72d-4d44-a002-d3ac009a3273",
   "metadata": {},
   "outputs": [
    {
     "data": {
      "text/plain": [
       "147251"
      ]
     },
     "execution_count": 22,
     "metadata": {},
     "output_type": "execute_result"
    }
   ],
   "source": [
    "docSrch = ElsSearch('lesion AND pancreatic', 'scopus')\n",
    "docSrch.execute(myCl)\n",
    "docSrch.tot_num_res"
   ]
  },
  {
   "cell_type": "code",
   "execution_count": null,
   "id": "42be26fe-02b7-45eb-bf72-991a844536f6",
   "metadata": {},
   "outputs": [],
   "source": [
    "If you enter more than one word or phrase in the same text box without using an operator, AND is assumed. "
   ]
  },
  {
   "cell_type": "code",
   "execution_count": 25,
   "id": "046d0845-e86c-4957-bd69-9e76084819b8",
   "metadata": {},
   "outputs": [
    {
     "data": {
      "text/plain": [
       "147251"
      ]
     },
     "execution_count": 25,
     "metadata": {},
     "output_type": "execute_result"
    }
   ],
   "source": [
    "docSrch = ElsSearch('lesion pancreatic', 'scopus')\n",
    "docSrch.execute(myCl)\n",
    "docSrch.tot_num_res"
   ]
  },
  {
   "cell_type": "markdown",
   "id": "5860cf41-8676-48ac-bb78-fe5a172f7acd",
   "metadata": {},
   "source": [
    "**`AND NOT`** excludes documents that include the specified term from the search. "
   ]
  },
  {
   "cell_type": "code",
   "execution_count": 23,
   "id": "036e27a3-7909-4b5d-9d98-74c467046114",
   "metadata": {},
   "outputs": [
    {
     "data": {
      "text/plain": [
       "2613367"
      ]
     },
     "execution_count": 23,
     "metadata": {},
     "output_type": "execute_result"
    }
   ],
   "source": [
    "docSrch = ElsSearch('lesion AND NOT pancreatic', 'scopus')\n",
    "docSrch.execute(myCl)\n",
    "docSrch.tot_num_res"
   ]
  },
  {
   "cell_type": "markdown",
   "id": "6afc7b6c-b66f-4d58-b67b-c343c9421ba1",
   "metadata": {},
   "source": [
    "If you want to search for the words or, and, or and not literally, enter them in double quotation marks: \"and\", \"or\", \"and not\"."
   ]
  },
  {
   "cell_type": "code",
   "execution_count": 28,
   "id": "666951d0-6453-4d7e-b24c-05e95a7cc939",
   "metadata": {},
   "outputs": [
    {
     "data": {
      "text/plain": [
       "2959"
      ]
     },
     "execution_count": 28,
     "metadata": {},
     "output_type": "execute_result"
    }
   ],
   "source": [
    "docSrch = ElsSearch('lesion \"AND NOT\" pancreatic', 'scopus')\n",
    "docSrch.execute(myCl)\n",
    "docSrch.tot_num_res"
   ]
  },
  {
   "cell_type": "markdown",
   "id": "eb92cf15-e4a6-4078-8540-f4cf61c7427e",
   "metadata": {},
   "source": [
    "## Order of precedence\n",
    "\n",
    "1. **`OR`**\n",
    "2. **`AND`**\n",
    "3. **`AND NOT`**"
   ]
  },
  {
   "cell_type": "markdown",
   "id": "d22658e8-10ec-431f-8440-a3639c243dfb",
   "metadata": {},
   "source": [
    "For example `(cat AND dog AND NOT rodent OR mouse)` translates to `((cat AND dog) AND NOT (rodent OR mouse))`"
   ]
  },
  {
   "cell_type": "code",
   "execution_count": null,
   "id": "2b42f4ae-9abd-4352-9be4-1b136f9a7136",
   "metadata": {},
   "outputs": [],
   "source": []
  }
 ],
 "metadata": {
  "kernelspec": {
   "display_name": "Python 3 (ipykernel)",
   "language": "python",
   "name": "python3"
  },
  "language_info": {
   "codemirror_mode": {
    "name": "ipython",
    "version": 3
   },
   "file_extension": ".py",
   "mimetype": "text/x-python",
   "name": "python",
   "nbconvert_exporter": "python",
   "pygments_lexer": "ipython3",
   "version": "3.8.13"
  }
 },
 "nbformat": 4,
 "nbformat_minor": 5
}
